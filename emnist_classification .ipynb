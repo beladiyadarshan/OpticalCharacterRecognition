{
 "cells": [
  {
   "cell_type": "code",
   "execution_count": 3,
   "metadata": {},
   "outputs": [],
   "source": [
    "from scipy.io import loadmat\n",
    "import os"
   ]
  },
  {
   "cell_type": "code",
   "execution_count": 4,
   "metadata": {},
   "outputs": [],
   "source": [
    "data_mat = loadmat(\"emnist-balanced.mat\")"
   ]
  },
  {
   "cell_type": "code",
   "execution_count": 5,
   "metadata": {},
   "outputs": [
    {
     "data": {
      "text/plain": [
       "dict_keys(['__header__', '__version__', '__globals__', 'dataset'])"
      ]
     },
     "execution_count": 5,
     "metadata": {},
     "output_type": "execute_result"
    }
   ],
   "source": [
    "data_mat.keys()"
   ]
  },
  {
   "cell_type": "code",
   "execution_count": 6,
   "metadata": {},
   "outputs": [],
   "source": [
    "data = data_mat['dataset']"
   ]
  },
  {
   "cell_type": "code",
   "execution_count": 7,
   "metadata": {},
   "outputs": [],
   "source": [
    "x_train = data['train'][0, 0]['images'][0, 0]\n",
    "y_train = data['train'][0, 0]['labels'][0, 0]\n",
    "x_test = data['test'][0, 0]['images'][0, 0]\n",
    "y_test = data['test'][0, 0]['labels'][0, 0]\n",
    "labels = ['0', '1', '2', '3', '4', '5', '6', '7', '8', '9', 'A', 'B', 'C', 'D', 'E', 'F', 'G', 'H', \n",
    "          'I', 'J', 'K', 'L', 'M', 'N', 'O', 'P', 'Q', 'R', 'S', 'T', 'U', 'V', 'W', 'X', 'Y', 'Z', \n",
    "          'a', 'b', 'c', 'd', 'e', 'f', 'g', 'h', 'i', 'j', 'k', 'l', 'm', 'n', 'o', 'p', 'q', 'r', \n",
    "          's', 't', 'u', 'v', 'w', 'x', 'y', 'z']\n",
    "# reshape into 28x28 later "
   ]
  },
  {
   "cell_type": "code",
   "execution_count": 8,
   "metadata": {},
   "outputs": [
    {
     "data": {
      "text/plain": [
       "((112800, 784), (112800, 1), (18800, 784), (18800, 1))"
      ]
     },
     "execution_count": 8,
     "metadata": {},
     "output_type": "execute_result"
    }
   ],
   "source": [
    "x_train.shape, y_train.shape, x_test.shape, y_test.shape"
   ]
  },
  {
   "cell_type": "code",
   "execution_count": 9,
   "metadata": {},
   "outputs": [
    {
     "name": "stdout",
     "output_type": "stream",
     "text": [
      "[33]\n"
     ]
    },
    {
     "data": {
      "image/png": "[encoded data removed]",
      "text/plain": [
       "<Figure size 432x288 with 1 Axes>"
      ]
     },
     "metadata": {
      "needs_background": "light"
     },
     "output_type": "display_data"
    }
   ],
   "source": [
    "import matplotlib.pyplot as plt\n",
    "%matplotlib inline\n",
    "idx = 546 \n",
    "\n",
    "plt.imshow(x_train[idx].reshape(28, 28), cmap = 'Greys')\n",
    "print(y_train[idx])"
   ]
  },
  {
   "cell_type": "code",
   "execution_count": 101,
   "metadata": {},
   "outputs": [
    {
     "data": {
      "text/plain": [
       "112800"
      ]
     },
     "execution_count": 101,
     "metadata": {},
     "output_type": "execute_result"
    }
   ],
   "source": [
    "x_train = x_train.reshape(x_train.shape[0], 28, 28, 1)\n",
    "x_test = x_test.reshape(x_test.shape[0], 28, 28, 1)\n",
    "\n",
    "shape = (28, 28, 1)\n",
    "\n",
    "x_train = x_train.astype('float32')\n",
    "x_test = x_test.astype('float32')\n",
    "\n",
    "x_train /= 255\n",
    "x_test /= 255 \n",
    "x_train.shape[0]"
   ]
  },
  {
   "cell_type": "code",
   "execution_count": 10,
   "metadata": {},
   "outputs": [
    {
     "name": "stderr",
     "output_type": "stream",
     "text": [
      "Using TensorFlow backend.\n"
     ]
    }
   ],
   "source": [
    "import tensorflow as tf\n",
    "from keras.models import Sequential\n",
    "from keras.layers import Dense, Conv2D, Dropout, Flatten, MaxPooling2D"
   ]
  },
  {
   "cell_type": "code",
   "execution_count": 103,
   "metadata": {},
   "outputs": [],
   "source": [
    "emnist_model = Sequential()\n",
    "emnist_model.add(Conv2D(28, kernel_size=(3, 3), input_shape=shape))\n",
    "emnist_model.add(MaxPooling2D(pool_size=(2, 2)))\n",
    "emnist_model.add(Dropout(0.4))\n",
    "emnist_model.add(Conv2D(28, kernel_size=(3, 3), input_shape=shape))\n",
    "emnist_model.add(MaxPooling2D(pool_size=(2, 2)))\n",
    "emnist_model.add(Dropout(0.1))\n",
    "emnist_model.add(Flatten())\n",
    "emnist_model.add(Dense(200, activation=tf.nn.relu))\n",
    "emnist_model.add(Dropout(0.2))\n",
    "emnist_model.add(Dense(59, activation=tf.nn.softmax))"
   ]
  },
  {
   "cell_type": "code",
   "execution_count": 104,
   "metadata": {},
   "outputs": [
    {
     "name": "stdout",
     "output_type": "stream",
     "text": [
      "Epoch 1/10\n",
      "112800/112800 [==============================] - 285s 3ms/step - loss: 0.8389 - accuracy: 0.7397\n",
      "Epoch 2/10\n",
      "112800/112800 [==============================] - 206s 2ms/step - loss: 0.5079 - accuracy: 0.8284\n",
      "Epoch 3/10\n",
      "112800/112800 [==============================] - 208s 2ms/step - loss: 0.4588 - accuracy: 0.8419\n",
      "Epoch 4/10\n",
      "112800/112800 [==============================] - 209s 2ms/step - loss: 0.4344 - accuracy: 0.8487\n",
      "Epoch 5/10\n",
      "112800/112800 [==============================] - 210s 2ms/step - loss: 0.4153 - accuracy: 0.8528\n",
      "Epoch 6/10\n",
      "112800/112800 [==============================] - 211s 2ms/step - loss: 0.4022 - accuracy: 0.85651s - loss: 0 - ETA\n",
      "Epoch 7/10\n",
      "112800/112800 [==============================] - 211s 2ms/step - loss: 0.3899 - accuracy: 0.8607\n",
      "Epoch 8/10\n",
      "112800/112800 [==============================] - 211s 2ms/step - loss: 0.3814 - accuracy: 0.8627\n",
      "Epoch 9/10\n",
      "112800/112800 [==============================] - 211s 2ms/step - loss: 0.3743 - accuracy: 0.8647\n",
      "Epoch 10/10\n",
      "112800/112800 [==============================] - 216s 2ms/step - loss: 0.3680 - accuracy: 0.8658\n"
     ]
    },
    {
     "data": {
      "text/plain": [
       "<keras.callbacks.callbacks.History at 0x187822f2f28>"
      ]
     },
     "execution_count": 104,
     "metadata": {},
     "output_type": "execute_result"
    }
   ],
   "source": [
    "emnist_model.compile(optimizer='adam',\n",
    "             loss='sparse_categorical_crossentropy',\n",
    "             metrics = ['accuracy'])\n",
    "emnist_model.fit(x=x_train, y=y_train, epochs=10)"
   ]
  },
  {
   "cell_type": "code",
   "execution_count": 21,
   "metadata": {},
   "outputs": [
    {
     "name": "stdout",
     "output_type": "stream",
     "text": [
      "(784,)\n",
      "Q\n"
     ]
    }
   ],
   "source": [
    "emnist_model = tf.keras.models.load_model('nn_emnist')\n",
    "pred = emnist_model.predict(x_test[809].reshape(1, 28, 28, 1))\n",
    "print(x_test[809].shape)\n",
    "print(labels[pred.argmax()])"
   ]
  },
  {
   "cell_type": "code",
   "execution_count": 22,
   "metadata": {},
   "outputs": [
    {
     "name": "stdout",
     "output_type": "stream",
     "text": [
      "Q\n"
     ]
    },
    {
     "data": {
      "image/png": "[encoded data removed]",
      "text/plain": [
       "<Figure size 432x288 with 1 Axes>"
      ]
     },
     "metadata": {
      "needs_background": "light"
     },
     "output_type": "display_data"
    }
   ],
   "source": [
    "plt.imshow(x_test[809].reshape(28, 28), cmap='Greys')\n",
    "print(labels[y_test[809][0]])"
   ]
  },
  {
   "cell_type": "code",
   "execution_count": null,
   "metadata": {},
   "outputs": [],
   "source": []
  },
  {
   "cell_type": "code",
   "execution_count": 115,
   "metadata": {},
   "outputs": [],
   "source": [
    "emnist_model.save('nn_emnist')"
   ]
  },
  {
   "cell_type": "code",
   "execution_count": null,
   "metadata": {},
   "outputs": [],
   "source": []
  }
 ],
 "metadata": {
  "kernelspec": {
   "display_name": "Python 3",
   "language": "python",
   "name": "python3"
  },
  "language_info": {
   "codemirror_mode": {
    "name": "ipython",
    "version": 3
   },
   "file_extension": ".py",
   "mimetype": "text/x-python",
   "name": "python",
   "nbconvert_exporter": "python",
   "pygments_lexer": "ipython3",
   "version": "3.7.3"
  }
 },
 "nbformat": 4,
 "nbformat_minor": 2
}
